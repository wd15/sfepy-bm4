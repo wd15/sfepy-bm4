{
 "cells": [
  {
   "cell_type": "markdown",
   "metadata": {},
   "source": [
    "# Determine $f_{\\text{el}}^{\\prime\\prime}$\n",
    "\n",
    "The elastic energy density\n",
    "\n",
    "$$f_{\\text{el}} = \\frac{1}{2} \\sigma_{ij} \\epsilon_{ij}^{\\text{el}}$$\n",
    "\n",
    "and\n",
    "\n",
    "$$ \\sigma_{ij} = C_{ijkl} \\epsilon_{kl}^{\\text{el}}$$\n",
    "\n",
    "with\n",
    "\n",
    "$$ C_{ijkl} = C_{ijkl}^m \\left( 1 + \\Delta h \\right) $$\n",
    "\n",
    "The strain is given by\n",
    "\n",
    "$$ \\epsilon_{ij}^{\\text{el}} = \\epsilon_{ij}^{\\text{total}} - h \\epsilon_{ij}^T $$\n",
    "\n",
    "Note that \n",
    "\n",
    "$$ \\epsilon^T = \\epsilon_{11}^T  = \\epsilon_{22}^T $$\n",
    "\n",
    "$$ 0 = \\epsilon_{12}^T  = \\epsilon_{21}^T $$\n",
    "\n",
    "Also,\n",
    "\n",
    "$$ C_{11} = C_{22} = C_{1111} = C_{2222} $$\n",
    "$$ C_{12} = C_{21} = C_{1122} = C_{2211} $$\n",
    "$$ C_{44} = C_{55} = C_{66} = C_{1212} = C_{2121} = C_{2112} = C_{1221} $$\n",
    "$$ C_{1211} = C_{1222} = C_{2111} = C_{2122} = 0 $$\n",
    "\n",
    "So that,\n",
    "\n",
    "$$ f_{\\text{el}} = \\frac{1}{2} C_{11} \\left(\\epsilon_{11}^2 + \\epsilon_{22}^2\\right)\n",
    "+ C_{12} \\epsilon_{11} \\epsilon_{22}\n",
    "+ 2 C_{44} \\epsilon_{12}^2 $$\n",
    "\n",
    "droppint the $\\text{el}$.\n",
    "\n",
    "Taking derivatives\n",
    "\n",
    "$$ f_{\\text{el}}^{\\prime\\prime} = \\frac{1}{2} C^{\\prime\\prime} \\epsilon^2 + 2 C^{\\prime} \\epsilon^{\\prime} \\epsilon + C \\left(\\epsilon^{\\prime}\\right)^2 + C \\epsilon^{\\prime\\prime} \\epsilon$$\n",
    "\n",
    "where\n",
    "\n",
    "$$ C^{\\prime\\prime} \\epsilon^2 = \\Delta h^{\\prime\\prime} \\left[C_{11} \\left( \\left(\\epsilon_{11}^{\\text{el}}\\right)^2 + \\left(\\epsilon_{22}^{\\text{el}}\\right)^2 \\right)\n",
    "+ 2 C_{12} \\epsilon_{11}^{\\text{el}} \\epsilon_{22}^{\\text{el}} + 4 C_{44} \\left(\\epsilon_{12}^{\\text{el}}\\right)^2 \\right] $$\n",
    "\n",
    "$$ C^{\\prime} \\epsilon^{\\prime} \\epsilon = - \\Delta \\left(h^{\\prime}\\right)^2 \\epsilon^T \\left(C_{11} + C_{12}\\right) \\left(\\epsilon_{11}^{\\text{el}} + \\epsilon_{22}^{\\text{el}} \\right) $$ \n",
    "\n",
    "$$ C \\left(\\epsilon^{\\prime}\\right)^2 = 2 \\left(1 + \\Delta h\\right) \\left(h^{\\prime}\\right)^2 \\left(\\epsilon^T\\right)^2 \\left(C_{11} + C_{12}\\right)$$\n",
    "\n",
    "$$ C \\epsilon^{\\prime\\prime} \\epsilon = - \\left(1 + \\Delta h\\right) h^{\\prime\\prime} \\epsilon^T \\left(C_{11} + C_{12}\\right) \\left(\\epsilon_{11}^{\\text{el}} + \\epsilon_{22}^{\\text{el}} \\right)$$"
   ]
  },
  {
   "cell_type": "code",
   "execution_count": null,
   "metadata": {},
   "outputs": [],
   "source": []
  }
 ],
 "metadata": {
  "kernelspec": {
   "display_name": "Python 3",
   "language": "python",
   "name": "python3"
  },
  "language_info": {
   "codemirror_mode": {
    "name": "ipython",
    "version": 3
   },
   "file_extension": ".py",
   "mimetype": "text/x-python",
   "name": "python",
   "nbconvert_exporter": "python",
   "pygments_lexer": "ipython3",
   "version": "3.6.4"
  }
 },
 "nbformat": 4,
 "nbformat_minor": 2
}
